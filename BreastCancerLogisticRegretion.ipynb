{
  "cells": [
    {
      "cell_type": "code",
      "execution_count": null,
      "id": "23eb128e",
      "metadata": {
        "id": "23eb128e",
        "outputId": "bccaf4cd-161c-4d41-a861-d19ea1d9986f"
      },
      "outputs": [
        {
          "name": "stdout",
          "output_type": "stream",
          "text": [
            "Accuracy on the training set: 0.948\n",
            "Accuracy on the test set: 0.965\n"
          ]
        },
        {
          "name": "stderr",
          "output_type": "stream",
          "text": [
            "C:\\Users\\DELL\\anaconda3\\envs\\reinstall_python3_8\\lib\\site-packages\\sklearn\\linear_model\\_logistic.py:763: ConvergenceWarning: lbfgs failed to converge (status=1):\n",
            "STOP: TOTAL NO. of ITERATIONS REACHED LIMIT.\n",
            "\n",
            "Increase the number of iterations (max_iter) or scale the data as shown in:\n",
            "    https://scikit-learn.org/stable/modules/preprocessing.html\n",
            "Please also refer to the documentation for alternative solver options:\n",
            "    https://scikit-learn.org/stable/modules/linear_model.html#logistic-regression\n",
            "  n_iter_i = _check_optimize_result(\n"
          ]
        }
      ],
      "source": [
        "from sklearn.model_selection import train_test_split\n",
        "from sklearn.linear_model import LogisticRegression\n",
        "from sklearn.datasets import load_breast_cancer\n",
        "\n",
        "#Load the Dataset of breast Cancer\n",
        "cancer = load_breast_cancer()\n",
        "\n",
        "#----------------Logistic Regression\n",
        "X_train, X_test, y_train, y_test = train_test_split(cancer.data, cancer.target, stratify=cancer.target, random_state=42)\n",
        "\n",
        "log_reg = LogisticRegression()\n",
        "log_reg.fit(X_train, y_train)\n",
        "\n",
        "print('Accuracy on the training set: {:.3f}'.format(log_reg.score(X_train,y_train)))\n",
        "print('Accuracy on the test set: {:.3f}'.format(log_reg.score(X_test,y_test)))\n"
      ]
    },
    {
      "cell_type": "code",
      "execution_count": null,
      "id": "dd6d939d",
      "metadata": {
        "id": "dd6d939d"
      },
      "outputs": [],
      "source": [
        ""
      ]
    }
  ],
  "metadata": {
    "kernelspec": {
      "display_name": "Python 3 (ipykernel)",
      "language": "python",
      "name": "python3"
    },
    "language_info": {
      "codemirror_mode": {
        "name": "ipython",
        "version": 3
      },
      "file_extension": ".py",
      "mimetype": "text/x-python",
      "name": "python",
      "nbconvert_exporter": "python",
      "pygments_lexer": "ipython3",
      "version": "3.8.12"
    },
    "colab": {
      "name": "BreastCancerLogisticRegretion.ipynb",
      "provenance": []
    }
  },
  "nbformat": 4,
  "nbformat_minor": 5
}
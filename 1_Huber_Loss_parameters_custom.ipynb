{
  "nbformat": 4,
  "nbformat_minor": 0,
  "metadata": {
    "colab": {
      "name": "1_Huber_Loss_parameters_custom.ipynb",
      "provenance": [],
      "collapsed_sections": []
    },
    "kernelspec": {
      "name": "python3",
      "display_name": "Python 3"
    },
    "language_info": {
      "name": "python"
    }
  },
  "cells": [
    {
      "cell_type": "code",
      "execution_count": 17,
      "metadata": {
        "id": "z-XlJTrScYGf"
      },
      "outputs": [],
      "source": [
        "try:\n",
        "  # %tensorflow_version only exists in Colab.\n",
        "  %tensorflow_version 2.x\n",
        "except Exception:\n",
        "  pass\n",
        "\n",
        "import tensorflow as tf\n",
        "import numpy as np\n",
        "from tensorflow import keras\n",
        "from tensorflow.keras.losses import Loss"
      ]
    },
    {
      "cell_type": "code",
      "source": [
        "# inputs\n",
        "xs = np.array([-1.0,  0.0, 1.0, 2.0, 3.0, 4.0], dtype=float)\n",
        "\n",
        "# labels\n",
        "ys = np.array([-3.0, -1.0, 1.0, 3.0, 5.0, 7.0], dtype=float)"
      ],
      "metadata": {
        "id": "uxwMG3z7chwQ"
      },
      "execution_count": 14,
      "outputs": []
    },
    {
      "cell_type": "code",
      "source": [
        "class MyHuberLoss(Loss):\n",
        "  thershold=1\n",
        "\n",
        "  def __init__(self, thershold):\n",
        "    super().__init__()\n",
        "    self.thershold = thershold\n",
        "\n",
        "  def call(self, y_true, y_pred):\n",
        "      error = y_true - y_pred\n",
        "      is_small_error = tf.abs(error) <= self.threshold\n",
        "      small_error_loss = tf.square(error) / 2\n",
        "      big_error_loss = self.threshold * (tf.abs(error) - (0.5 * self.threshold))\n",
        "      return tf.where(is_small_error, small_error_loss, big_error_loss)\n"
      ],
      "metadata": {
        "id": "eLWBWFxzeY-P"
      },
      "execution_count": 33,
      "outputs": []
    },
    {
      "cell_type": "code",
      "source": [
        "model = tf.keras.Sequential([keras.layers.Dense(units=1, input_shape=[1])])\n",
        "model.compile(optimizer='adam', loss=MyHuberLoss(thershold=1))\n",
        "print(model.predict([10.0]))"
      ],
      "metadata": {
        "colab": {
          "base_uri": "https://localhost:8080/"
        },
        "id": "RaUhzOXdcnfx",
        "outputId": "fc7208dd-ac04-463b-85d1-4e56316055d9"
      },
      "execution_count": 34,
      "outputs": [
        {
          "output_type": "stream",
          "name": "stdout",
          "text": [
            "[[8.7975445]]\n"
          ]
        }
      ]
    },
    {
      "cell_type": "code",
      "source": [
        ""
      ],
      "metadata": {
        "id": "nJg8lMjpc_pt"
      },
      "execution_count": null,
      "outputs": []
    }
  ]
}